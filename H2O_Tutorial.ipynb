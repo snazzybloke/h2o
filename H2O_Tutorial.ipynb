{
 "cells": [
  {
   "cell_type": "code",
   "execution_count": 1,
   "metadata": {},
   "outputs": [],
   "source": [
    "import h2o\n",
    "from h2o.estimators.random_forest import H2ORandomForestEstimator\n",
    "from h2o.estimators.gbm import H2OGradientBoostingEstimator\n",
    "from h2o.estimators.xgboost import H2OXGBoostEstimator\n",
    "from h2o.estimators.deeplearning import H2ODeepLearningEstimator\n",
    "from h2o.estimators.naive_bayes import H2ONaiveBayesEstimator\n",
    "from h2o.estimators.glm import H2OGeneralizedLinearEstimator"
   ]
  },
  {
   "cell_type": "code",
   "execution_count": 2,
   "metadata": {},
   "outputs": [
    {
     "name": "stdout",
     "output_type": "stream",
     "text": [
      "Checking whether there is an H2O instance running at http://localhost:54321..... not found.\n",
      "Attempting to start a local H2O server...\n",
      "  Java Version: openjdk version \"1.8.0_191\"; OpenJDK Runtime Environment (build 1.8.0_191-8u191-b12-0ubuntu0.16.04.1-b12); OpenJDK 64-Bit Server VM (build 25.191-b12, mixed mode)\n",
      "  Starting server from /usr/local/lib/python3.5/dist-packages/h2o/backend/bin/h2o.jar\n",
      "  Ice root: /tmp/tmpl62m3uf1\n",
      "  JVM stdout: /tmp/tmpl62m3uf1/h2o_antebilic_started_from_python.out\n",
      "  JVM stderr: /tmp/tmpl62m3uf1/h2o_antebilic_started_from_python.err\n",
      "  Server is running at http://127.0.0.1:54321\n",
      "Connecting to H2O server at http://127.0.0.1:54321... successful.\n"
     ]
    },
    {
     "data": {
      "text/html": [
       "<div style=\"overflow:auto\"><table style=\"width:50%\"><tr><td>H2O cluster uptime:</td>\n",
       "<td>02 secs</td></tr>\n",
       "<tr><td>H2O cluster timezone:</td>\n",
       "<td>Asia/Singapore</td></tr>\n",
       "<tr><td>H2O data parsing timezone:</td>\n",
       "<td>UTC</td></tr>\n",
       "<tr><td>H2O cluster version:</td>\n",
       "<td>3.22.1.1</td></tr>\n",
       "<tr><td>H2O cluster version age:</td>\n",
       "<td>20 days </td></tr>\n",
       "<tr><td>H2O cluster name:</td>\n",
       "<td>H2O_from_python_antebilic_7ye5gb</td></tr>\n",
       "<tr><td>H2O cluster total nodes:</td>\n",
       "<td>1</td></tr>\n",
       "<tr><td>H2O cluster free memory:</td>\n",
       "<td>3.556 Gb</td></tr>\n",
       "<tr><td>H2O cluster total cores:</td>\n",
       "<td>8</td></tr>\n",
       "<tr><td>H2O cluster allowed cores:</td>\n",
       "<td>8</td></tr>\n",
       "<tr><td>H2O cluster status:</td>\n",
       "<td>accepting new members, healthy</td></tr>\n",
       "<tr><td>H2O connection url:</td>\n",
       "<td>http://127.0.0.1:54321</td></tr>\n",
       "<tr><td>H2O connection proxy:</td>\n",
       "<td>None</td></tr>\n",
       "<tr><td>H2O internal security:</td>\n",
       "<td>False</td></tr>\n",
       "<tr><td>H2O API Extensions:</td>\n",
       "<td>XGBoost, Algos, AutoML, Core V3, Core V4</td></tr>\n",
       "<tr><td>Python version:</td>\n",
       "<td>3.5.2 final</td></tr></table></div>"
      ],
      "text/plain": [
       "--------------------------  ----------------------------------------\n",
       "H2O cluster uptime:         02 secs\n",
       "H2O cluster timezone:       Asia/Singapore\n",
       "H2O data parsing timezone:  UTC\n",
       "H2O cluster version:        3.22.1.1\n",
       "H2O cluster version age:    20 days\n",
       "H2O cluster name:           H2O_from_python_antebilic_7ye5gb\n",
       "H2O cluster total nodes:    1\n",
       "H2O cluster free memory:    3.556 Gb\n",
       "H2O cluster total cores:    8\n",
       "H2O cluster allowed cores:  8\n",
       "H2O cluster status:         accepting new members, healthy\n",
       "H2O connection url:         http://127.0.0.1:54321\n",
       "H2O connection proxy:\n",
       "H2O internal security:      False\n",
       "H2O API Extensions:         XGBoost, Algos, AutoML, Core V3, Core V4\n",
       "Python version:             3.5.2 final\n",
       "--------------------------  ----------------------------------------"
      ]
     },
     "metadata": {},
     "output_type": "display_data"
    }
   ],
   "source": [
    "h2o.init(nthreads=-1, max_mem_size='4g')"
   ]
  },
  {
   "cell_type": "code",
   "execution_count": 3,
   "metadata": {},
   "outputs": [
    {
     "name": "stdout",
     "output_type": "stream",
     "text": [
      "Parse progress: |█████████████████████████████████████████████████████████| 100%\n"
     ]
    },
    {
     "data": {
      "text/html": [
       "<table>\n",
       "<thead>\n",
       "<tr><th style=\"text-align: right;\">  Age</th><th>Workclass       </th><th style=\"text-align: right;\">  Education-Num</th><th>Marital Status       </th><th>Occupation       </th><th>Relationship  </th><th>Race  </th><th>Sex   </th><th style=\"text-align: right;\">  Capital Gain</th><th style=\"text-align: right;\">  Capital Loss</th><th style=\"text-align: right;\">  Hours per week</th><th>Country      </th><th>over_50k  </th></tr>\n",
       "</thead>\n",
       "<tbody>\n",
       "<tr><td style=\"text-align: right;\">   39</td><td>State-gov       </td><td style=\"text-align: right;\">             13</td><td>Never-married        </td><td>Adm-clerical     </td><td>Not-in-family </td><td>White </td><td>Male  </td><td style=\"text-align: right;\">          2174</td><td style=\"text-align: right;\">             0</td><td style=\"text-align: right;\">              40</td><td>United-States</td><td>False     </td></tr>\n",
       "<tr><td style=\"text-align: right;\">   50</td><td>Self-emp-not-inc</td><td style=\"text-align: right;\">             13</td><td>Married-civ-spouse   </td><td>Exec-managerial  </td><td>Husband       </td><td>White </td><td>Male  </td><td style=\"text-align: right;\">             0</td><td style=\"text-align: right;\">             0</td><td style=\"text-align: right;\">              13</td><td>United-States</td><td>False     </td></tr>\n",
       "<tr><td style=\"text-align: right;\">   38</td><td>Private         </td><td style=\"text-align: right;\">              9</td><td>Divorced             </td><td>Handlers-cleaners</td><td>Not-in-family </td><td>White </td><td>Male  </td><td style=\"text-align: right;\">             0</td><td style=\"text-align: right;\">             0</td><td style=\"text-align: right;\">              40</td><td>United-States</td><td>False     </td></tr>\n",
       "<tr><td style=\"text-align: right;\">   53</td><td>Private         </td><td style=\"text-align: right;\">              7</td><td>Married-civ-spouse   </td><td>Handlers-cleaners</td><td>Husband       </td><td>Black </td><td>Male  </td><td style=\"text-align: right;\">             0</td><td style=\"text-align: right;\">             0</td><td style=\"text-align: right;\">              40</td><td>United-States</td><td>False     </td></tr>\n",
       "<tr><td style=\"text-align: right;\">   28</td><td>Private         </td><td style=\"text-align: right;\">             13</td><td>Married-civ-spouse   </td><td>Prof-specialty   </td><td>Wife          </td><td>Black </td><td>Female</td><td style=\"text-align: right;\">             0</td><td style=\"text-align: right;\">             0</td><td style=\"text-align: right;\">              40</td><td>Cuba         </td><td>False     </td></tr>\n",
       "<tr><td style=\"text-align: right;\">   37</td><td>Private         </td><td style=\"text-align: right;\">             14</td><td>Married-civ-spouse   </td><td>Exec-managerial  </td><td>Wife          </td><td>White </td><td>Female</td><td style=\"text-align: right;\">             0</td><td style=\"text-align: right;\">             0</td><td style=\"text-align: right;\">              40</td><td>United-States</td><td>False     </td></tr>\n",
       "<tr><td style=\"text-align: right;\">   49</td><td>Private         </td><td style=\"text-align: right;\">              5</td><td>Married-spouse-absent</td><td>Other-service    </td><td>Not-in-family </td><td>Black </td><td>Female</td><td style=\"text-align: right;\">             0</td><td style=\"text-align: right;\">             0</td><td style=\"text-align: right;\">              16</td><td>Jamaica      </td><td>False     </td></tr>\n",
       "<tr><td style=\"text-align: right;\">   52</td><td>Self-emp-not-inc</td><td style=\"text-align: right;\">              9</td><td>Married-civ-spouse   </td><td>Exec-managerial  </td><td>Husband       </td><td>White </td><td>Male  </td><td style=\"text-align: right;\">             0</td><td style=\"text-align: right;\">             0</td><td style=\"text-align: right;\">              45</td><td>United-States</td><td>True      </td></tr>\n",
       "<tr><td style=\"text-align: right;\">   31</td><td>Private         </td><td style=\"text-align: right;\">             14</td><td>Never-married        </td><td>Prof-specialty   </td><td>Not-in-family </td><td>White </td><td>Female</td><td style=\"text-align: right;\">         14084</td><td style=\"text-align: right;\">             0</td><td style=\"text-align: right;\">              50</td><td>United-States</td><td>True      </td></tr>\n",
       "<tr><td style=\"text-align: right;\">   42</td><td>Private         </td><td style=\"text-align: right;\">             13</td><td>Married-civ-spouse   </td><td>Exec-managerial  </td><td>Husband       </td><td>White </td><td>Male  </td><td style=\"text-align: right;\">          5178</td><td style=\"text-align: right;\">             0</td><td style=\"text-align: right;\">              40</td><td>United-States</td><td>True      </td></tr>\n",
       "</tbody>\n",
       "</table>"
      ]
     },
     "metadata": {},
     "output_type": "display_data"
    },
    {
     "data": {
      "text/plain": []
     },
     "execution_count": 3,
     "metadata": {},
     "output_type": "execute_result"
    }
   ],
   "source": [
    "my_data = h2o.import_file('Census_income.csv')\n",
    "my_data.head()"
   ]
  },
  {
   "cell_type": "code",
   "execution_count": 4,
   "metadata": {},
   "outputs": [
    {
     "name": "stdout",
     "output_type": "stream",
     "text": [
      "Rows:32561\n",
      "Cols:13\n",
      "\n",
      "\n"
     ]
    },
    {
     "data": {
      "text/html": [
       "<table>\n",
       "<thead>\n",
       "<tr><th>       </th><th>Age               </th><th>Workclass       </th><th>Education-Num     </th><th>Marital Status       </th><th>Occupation       </th><th>Relationship  </th><th>Race  </th><th>Sex   </th><th>Capital Gain      </th><th>Capital Loss     </th><th>Hours per week    </th><th>Country      </th><th>over_50k  </th></tr>\n",
       "</thead>\n",
       "<tbody>\n",
       "<tr><td>type   </td><td>int               </td><td>enum            </td><td>int               </td><td>enum                 </td><td>enum             </td><td>enum          </td><td>enum  </td><td>enum  </td><td>int               </td><td>int              </td><td>int               </td><td>enum         </td><td>enum      </td></tr>\n",
       "<tr><td>mins   </td><td>17.0              </td><td>                </td><td>1.0               </td><td>                     </td><td>                 </td><td>              </td><td>      </td><td>      </td><td>0.0               </td><td>0.0              </td><td>1.0               </td><td>             </td><td>          </td></tr>\n",
       "<tr><td>mean   </td><td>38.581646755320776</td><td>                </td><td>10.0806793403151  </td><td>                     </td><td>                 </td><td>              </td><td>      </td><td>      </td><td>1077.6488437087312</td><td>87.303829734959  </td><td>40.43745585209298 </td><td>             </td><td>          </td></tr>\n",
       "<tr><td>maxs   </td><td>90.0              </td><td>                </td><td>16.0              </td><td>                     </td><td>                 </td><td>              </td><td>      </td><td>      </td><td>99999.0           </td><td>4356.0           </td><td>99.0              </td><td>             </td><td>          </td></tr>\n",
       "<tr><td>sigma  </td><td>13.64043255358134 </td><td>                </td><td>2.5727203320673877</td><td>                     </td><td>                 </td><td>              </td><td>      </td><td>      </td><td>7385.29208484034  </td><td>402.9602186489997</td><td>12.347428681731843</td><td>             </td><td>          </td></tr>\n",
       "<tr><td>zeros  </td><td>0                 </td><td>                </td><td>0                 </td><td>                     </td><td>                 </td><td>              </td><td>      </td><td>      </td><td>29849             </td><td>31042            </td><td>0                 </td><td>             </td><td>          </td></tr>\n",
       "<tr><td>missing</td><td>0                 </td><td>0               </td><td>0                 </td><td>0                    </td><td>0                </td><td>0             </td><td>0     </td><td>0     </td><td>0                 </td><td>0                </td><td>0                 </td><td>0            </td><td>0         </td></tr>\n",
       "<tr><td>0      </td><td>39.0              </td><td>State-gov       </td><td>13.0              </td><td>Never-married        </td><td>Adm-clerical     </td><td>Not-in-family </td><td>White </td><td>Male  </td><td>2174.0            </td><td>0.0              </td><td>40.0              </td><td>United-States</td><td>False     </td></tr>\n",
       "<tr><td>1      </td><td>50.0              </td><td>Self-emp-not-inc</td><td>13.0              </td><td>Married-civ-spouse   </td><td>Exec-managerial  </td><td>Husband       </td><td>White </td><td>Male  </td><td>0.0               </td><td>0.0              </td><td>13.0              </td><td>United-States</td><td>False     </td></tr>\n",
       "<tr><td>2      </td><td>38.0              </td><td>Private         </td><td>9.0               </td><td>Divorced             </td><td>Handlers-cleaners</td><td>Not-in-family </td><td>White </td><td>Male  </td><td>0.0               </td><td>0.0              </td><td>40.0              </td><td>United-States</td><td>False     </td></tr>\n",
       "<tr><td>3      </td><td>53.0              </td><td>Private         </td><td>7.0               </td><td>Married-civ-spouse   </td><td>Handlers-cleaners</td><td>Husband       </td><td>Black </td><td>Male  </td><td>0.0               </td><td>0.0              </td><td>40.0              </td><td>United-States</td><td>False     </td></tr>\n",
       "<tr><td>4      </td><td>28.0              </td><td>Private         </td><td>13.0              </td><td>Married-civ-spouse   </td><td>Prof-specialty   </td><td>Wife          </td><td>Black </td><td>Female</td><td>0.0               </td><td>0.0              </td><td>40.0              </td><td>Cuba         </td><td>False     </td></tr>\n",
       "<tr><td>5      </td><td>37.0              </td><td>Private         </td><td>14.0              </td><td>Married-civ-spouse   </td><td>Exec-managerial  </td><td>Wife          </td><td>White </td><td>Female</td><td>0.0               </td><td>0.0              </td><td>40.0              </td><td>United-States</td><td>False     </td></tr>\n",
       "<tr><td>6      </td><td>49.0              </td><td>Private         </td><td>5.0               </td><td>Married-spouse-absent</td><td>Other-service    </td><td>Not-in-family </td><td>Black </td><td>Female</td><td>0.0               </td><td>0.0              </td><td>16.0              </td><td>Jamaica      </td><td>False     </td></tr>\n",
       "<tr><td>7      </td><td>52.0              </td><td>Self-emp-not-inc</td><td>9.0               </td><td>Married-civ-spouse   </td><td>Exec-managerial  </td><td>Husband       </td><td>White </td><td>Male  </td><td>0.0               </td><td>0.0              </td><td>45.0              </td><td>United-States</td><td>True      </td></tr>\n",
       "<tr><td>8      </td><td>31.0              </td><td>Private         </td><td>14.0              </td><td>Never-married        </td><td>Prof-specialty   </td><td>Not-in-family </td><td>White </td><td>Female</td><td>14084.0           </td><td>0.0              </td><td>50.0              </td><td>United-States</td><td>True      </td></tr>\n",
       "<tr><td>9      </td><td>42.0              </td><td>Private         </td><td>13.0              </td><td>Married-civ-spouse   </td><td>Exec-managerial  </td><td>Husband       </td><td>White </td><td>Male  </td><td>5178.0            </td><td>0.0              </td><td>40.0              </td><td>United-States</td><td>True      </td></tr>\n",
       "</tbody>\n",
       "</table>"
      ]
     },
     "metadata": {},
     "output_type": "display_data"
    }
   ],
   "source": [
    "my_data.describe()"
   ]
  },
  {
   "cell_type": "code",
   "execution_count": 5,
   "metadata": {},
   "outputs": [
    {
     "data": {
      "text/plain": [
       "((26122, 13), (6439, 13))"
      ]
     },
     "execution_count": 5,
     "metadata": {},
     "output_type": "execute_result"
    }
   ],
   "source": [
    "train, test = my_data.split_frame([0.8], seed=42)\n",
    "train.shape, test.shape"
   ]
  },
  {
   "cell_type": "code",
   "execution_count": 6,
   "metadata": {},
   "outputs": [
    {
     "data": {
      "text/plain": [
       "['Age',\n",
       " 'Workclass',\n",
       " 'Education-Num',\n",
       " 'Marital Status',\n",
       " 'Occupation',\n",
       " 'Relationship',\n",
       " 'Race',\n",
       " 'Sex',\n",
       " 'Capital Gain',\n",
       " 'Capital Loss',\n",
       " 'Hours per week',\n",
       " 'Country']"
      ]
     },
     "execution_count": 6,
     "metadata": {},
     "output_type": "execute_result"
    }
   ],
   "source": [
    "y = 'over_50k'\n",
    "x = my_data.columns\n",
    "x.remove(y)\n",
    "x"
   ]
  },
  {
   "cell_type": "markdown",
   "metadata": {},
   "source": [
    "# Spot-check Classification\n",
    "To quickly determine which type or class of algorithms is good at picking out the structure in the dataset.\n",
    "This is the 1st step in the model tuning process."
   ]
  },
  {
   "cell_type": "code",
   "execution_count": 7,
   "metadata": {},
   "outputs": [
    {
     "name": "stdout",
     "output_type": "stream",
     "text": [
      "glm Model Build progress: |███████████████████████████████████████████████| 100%\n",
      "GeneralizedLinear Max Accuracy/f1/AUC: 0.855 0.696 0.911\n"
     ]
    }
   ],
   "source": [
    "gl0 = H2OGeneralizedLinearEstimator(model_id='gl0', family=\"binomial\", seed=42)\n",
    "gl0.train(x=x, y=y, training_frame=train)\n",
    "gl0_perf = gl0.model_performance(test)\n",
    "print(\"GeneralizedLinear Max Accuracy/f1/AUC: {:{f}} {:{f}} {:{f}}\".\n",
    "      format(gl0_perf.accuracy()[0][1], gl0_perf.F1()[0][1], gl0_perf.auc(), f='.3f'))"
   ]
  },
  {
   "cell_type": "code",
   "execution_count": 8,
   "metadata": {},
   "outputs": [
    {
     "name": "stdout",
     "output_type": "stream",
     "text": [
      "xgboost Model Build progress: |███████████████████████████████████████████| 100%\n",
      "XGBoost Accuracy/f1/AUC: 0.874 0.728 0.931\n",
      "drf Model Build progress: |███████████████████████████████████████████████| 100%\n",
      "RandomForest Accuracy/f1/AUC: 0.868 0.717 0.919\n",
      "deeplearning Model Build progress: |██████████████████████████████████████| 100%\n",
      "DeepLearning Accuracy/f1/AUC: 0.859 0.705 0.917\n",
      "naivebayes Model Build progress: |████████████████████████████████████████| 100%\n",
      "NaiveBayes Accuracy/f1/AUC: 0.832 0.655 0.873\n",
      "gbm Model Build progress: |███████████████████████████████████████████████| 100%\n",
      "GradientBoosting Accuracy/f1/AUC: 0.873 0.723 0.927\n"
     ]
    }
   ],
   "source": [
    "my_models = {'nb0': \"NaiveBayes\", 'dl0': \"DeepLearning\", 'rf0': \"RandomForest\",\n",
    "             'gb0': \"GradientBoosting\", 'xg0': \"XGBoost\"}\n",
    "\n",
    "for m, m_id in my_models.items():\n",
    "    exec(m + ' = H2O' + m_id + 'Estimator(model_id=m_id, seed=42)')\n",
    "    exec(m + '.train(x=x, y=y, training_frame=train)')\n",
    "    exec('mp =' + m + '.model_performance(test)')\n",
    "    acc = mp.accuracy()[0][1]\n",
    "    f1 = mp.F1()[0][1]\n",
    "    auc = mp.auc()\n",
    "    exec('print(\"' + m_id + ' Accuracy/f1/AUC: {:{f}} {:{f}} {:{f}}\"' + '.format(acc, f1, auc, f=\".3f\"))')"
   ]
  },
  {
   "cell_type": "code",
   "execution_count": 9,
   "metadata": {},
   "outputs": [
    {
     "name": "stdout",
     "output_type": "stream",
     "text": [
      "xgboost Model Build progress: |███████████████████████████████████████████| 100%\n"
     ]
    },
    {
     "data": {
      "text/plain": [
       "\n",
       "accuracy     0.86589146\n",
       "auc          0.92872906\n",
       "f1            0.7333357\n",
       "precision    0.70486593\n",
       "recall        0.7651271\n",
       "Name: mean, dtype: object"
      ]
     },
     "execution_count": 9,
     "metadata": {},
     "output_type": "execute_result"
    }
   ],
   "source": [
    "# k-fold cross validation on the full dataset:\n",
    "nfolds = 5\n",
    "\n",
    "xg_cv = H2OXGBoostEstimator(nfolds=nfolds, model_id='xg_cv', seed=42)\n",
    "xg_cv.train(x=x, y=y, training_frame=my_data)\n",
    "\n",
    "xg_cv_summ = xg_cv.cross_validation_metrics_summary()\n",
    "df_xgcv = xg_cv_summ.as_data_frame()\n",
    "df_xgcv.set_index('', drop=True).loc[['accuracy', 'auc', 'f1', 'precision', 'recall'], 'mean']"
   ]
  },
  {
   "cell_type": "code",
   "execution_count": 10,
   "metadata": {},
   "outputs": [
    {
     "name": "stdout",
     "output_type": "stream",
     "text": [
      "xgboost Grid Build progress: |████████████████████████████████████████████| 100%\n"
     ]
    }
   ],
   "source": [
    "# Random grid search for optimal XGBoost hyperparameters:\n",
    "from h2o.grid.grid_search import H2OGridSearch\n",
    "\n",
    "hyper_params = {'ntrees': [10, 50, 100], 'learn_rate': [0.01, 0.03, 0.5], 'max_depth': [3, 5, 7, 9],\n",
    "                'sample_rate': [0.7, 0.8, 0.9, 1.0], 'col_sample_rate': [0.2, 0.3, 0.4, 0.5, 0.6, 0.7, 0.8]}\n",
    "search_criteria = {'strategy': 'RandomDiscrete', 'max_models': 10, 'seed': 42}\n",
    "\n",
    "xg1 = H2OXGBoostEstimator(nfolds=nfolds, seed=42)\n",
    "xgrid1 = H2OGridSearch(model=xg1, hyper_params=hyper_params, search_criteria=search_criteria, grid_id='xgrid1')\n",
    "xgrid1.train(x=x, y=y, training_frame=my_data)"
   ]
  },
  {
   "cell_type": "code",
   "execution_count": 11,
   "metadata": {},
   "outputs": [
    {
     "name": "stdout",
     "output_type": "stream",
     "text": [
      "\n",
      " xgrid1_model_3\n",
      "accuracy: [[0.5298826480523134, 0.8729461625871441]]\n",
      "F1: [[0.384617087656054, 0.7307431808386184]]\n",
      "auc: 0.9277328087073631\n",
      "\n",
      " xgrid1_model_5\n",
      "accuracy: [[0.5125697559780544, 0.8715027179754922]]\n",
      "F1: [[0.36461265075881527, 0.7270010161994143]]\n",
      "auc: 0.9268826905210311\n",
      "\n",
      " xgrid1_model_6\n",
      "accuracy: [[0.5479360943616822, 0.8688308098645618]]\n",
      "F1: [[0.389325744830645, 0.7220920192426299]]\n",
      "auc: 0.9237036494750644\n",
      "\n",
      " xgrid1_model_7\n",
      "accuracy: [[0.4637057627692367, 0.8685544055772243]]\n",
      "F1: [[0.39244737432283516, 0.7223257547521431]]\n",
      "auc: 0.9222170054385938\n",
      "\n",
      " xgrid1_model_1\n",
      "accuracy: [[0.5339137269900396, 0.8658210742913302]]\n",
      "F1: [[0.3702498191595078, 0.7149260964380907]]\n",
      "auc: 0.9199239491487158\n",
      "\n",
      " xgrid1_model_4\n",
      "accuracy: [[0.5189726027575406, 0.8569761370965265]]\n",
      "F1: [[0.31161622738091194, 0.6936967249887842]]\n",
      "auc: 0.9105591191682259\n",
      "\n",
      " xgrid1_model_8\n",
      "accuracy: [[0.4633984832387221, 0.8643162065047142]]\n",
      "F1: [[0.40594118407794405, 0.7111898435193387]]\n",
      "auc: 0.9174061696071888\n",
      "\n",
      " xgrid1_model_10\n",
      "accuracy: [[0.46862025907699095, 0.8558398083596941]]\n",
      "F1: [[0.395717931500936, 0.689159826170932]]\n",
      "auc: 0.9063068076524153\n",
      "\n",
      " xgrid1_model_2\n",
      "accuracy: [[0.47249929528487356, 0.8497282024507847]]\n",
      "F1: [[0.4620396452720719, 0.6652349981592834]]\n",
      "auc: 0.8903806267487017\n",
      "\n",
      " xgrid1_model_9\n",
      "accuracy: [[0.48949439745200307, 0.8506188384877614]]\n",
      "F1: [[0.48644621117731157, 0.6644938890629897]]\n",
      "auc: 0.8897690351810189\n"
     ]
    }
   ],
   "source": [
    "# xgrid1.models\n",
    "\n",
    "# performance on the holdout (xval=True) data\n",
    "for m in xgrid1.model_ids:\n",
    "    print('\\n', m)\n",
    "    for score in ('accuracy', 'F1', 'auc'):\n",
    "        print(score + ':', eval('h2o.get_model(m).model_performance(xval=True).' + score + '()'))"
   ]
  },
  {
   "cell_type": "code",
   "execution_count": 12,
   "metadata": {},
   "outputs": [
    {
     "data": {
      "text/plain": [
       "{'xgrid1_model_1': 0.9199239491487158,\n",
       " 'xgrid1_model_10': 0.9063068076524153,\n",
       " 'xgrid1_model_2': 0.8903806267487017,\n",
       " 'xgrid1_model_3': 0.9277328087073631,\n",
       " 'xgrid1_model_4': 0.9105591191682259,\n",
       " 'xgrid1_model_5': 0.9268826905210311,\n",
       " 'xgrid1_model_6': 0.9237036494750644,\n",
       " 'xgrid1_model_7': 0.9222170054385938,\n",
       " 'xgrid1_model_8': 0.9174061696071888,\n",
       " 'xgrid1_model_9': 0.8897690351810189}"
      ]
     },
     "execution_count": 12,
     "metadata": {},
     "output_type": "execute_result"
    }
   ],
   "source": [
    "# AUC of cross-validated holdout predictions\n",
    "xgrid1.auc(xval=True)"
   ]
  },
  {
   "cell_type": "code",
   "execution_count": 13,
   "metadata": {},
   "outputs": [
    {
     "data": {
      "text/plain": [
       "{'xgrid1_model_1': [[0.5339137269900396, 0.8658210742913302]],\n",
       " 'xgrid1_model_10': [[0.46862025907699095, 0.8558398083596941]],\n",
       " 'xgrid1_model_2': [[0.47249929528487356, 0.8497282024507847]],\n",
       " 'xgrid1_model_3': [[0.5298826480523134, 0.8729461625871441]],\n",
       " 'xgrid1_model_4': [[0.5189726027575406, 0.8569761370965265]],\n",
       " 'xgrid1_model_5': [[0.5125697559780544, 0.8715027179754922]],\n",
       " 'xgrid1_model_6': [[0.5479360943616822, 0.8688308098645618]],\n",
       " 'xgrid1_model_7': [[0.4637057627692367, 0.8685544055772243]],\n",
       " 'xgrid1_model_8': [[0.4633984832387221, 0.8643162065047142]],\n",
       " 'xgrid1_model_9': [[0.48949439745200307, 0.8506188384877614]]}"
      ]
     },
     "execution_count": 13,
     "metadata": {},
     "output_type": "execute_result"
    }
   ],
   "source": [
    "# threshold-max.accuracy:\n",
    "xgrid1.accuracy(xval=True)"
   ]
  },
  {
   "cell_type": "code",
   "execution_count": 14,
   "metadata": {},
   "outputs": [
    {
     "data": {
      "text/plain": [
       "{'backend': {'actual': 'auto', 'default': 'auto'},\n",
       " 'booster': {'actual': 'gbtree', 'default': 'gbtree'},\n",
       " 'categorical_encoding': {'actual': 'AUTO', 'default': 'AUTO'},\n",
       " 'col_sample_rate': {'actual': 0.4, 'default': 1.0},\n",
       " 'col_sample_rate_per_tree': {'actual': 1.0, 'default': 1.0},\n",
       " 'colsample_bylevel': {'actual': 1.0, 'default': 1.0},\n",
       " 'colsample_bytree': {'actual': 1.0, 'default': 1.0},\n",
       " 'distribution': {'actual': 'AUTO', 'default': 'AUTO'},\n",
       " 'dmatrix_type': {'actual': 'auto', 'default': 'auto'},\n",
       " 'eta': {'actual': 0.3, 'default': 0.3},\n",
       " 'export_checkpoints_dir': {'actual': None, 'default': None},\n",
       " 'fold_assignment': {'actual': 'AUTO', 'default': 'AUTO'},\n",
       " 'fold_column': {'actual': None, 'default': None},\n",
       " 'gamma': {'actual': 0.0, 'default': 0.0},\n",
       " 'gpu_id': {'actual': 0, 'default': 0},\n",
       " 'grow_policy': {'actual': 'depthwise', 'default': 'depthwise'},\n",
       " 'ignore_const_cols': {'actual': True, 'default': True},\n",
       " 'ignored_columns': {'actual': None, 'default': None},\n",
       " 'keep_cross_validation_fold_assignment': {'actual': False, 'default': False},\n",
       " 'keep_cross_validation_models': {'actual': True, 'default': True},\n",
       " 'keep_cross_validation_predictions': {'actual': False, 'default': False},\n",
       " 'learn_rate': {'actual': 0.03, 'default': 0.3},\n",
       " 'max_abs_leafnode_pred': {'actual': 0.0, 'default': 0.0},\n",
       " 'max_bins': {'actual': 256, 'default': 256},\n",
       " 'max_delta_step': {'actual': 0.0, 'default': 0.0},\n",
       " 'max_depth': {'actual': 9, 'default': 6},\n",
       " 'max_leaves': {'actual': 0, 'default': 0},\n",
       " 'max_runtime_secs': {'actual': 0.0, 'default': 0.0},\n",
       " 'min_child_weight': {'actual': 1.0, 'default': 1.0},\n",
       " 'min_data_in_leaf': {'actual': 0.0, 'default': 0.0},\n",
       " 'min_rows': {'actual': 1.0, 'default': 1.0},\n",
       " 'min_split_improvement': {'actual': 0.0, 'default': 0.0},\n",
       " 'min_sum_hessian_in_leaf': {'actual': 100.0, 'default': 100.0},\n",
       " 'model_id': {'actual': {'URL': '/3/Models/xgrid1_model_7',\n",
       "   '__meta': {'schema_name': 'ModelKeyV3',\n",
       "    'schema_type': 'Key<Model>',\n",
       "    'schema_version': 3},\n",
       "   'name': 'xgrid1_model_7',\n",
       "   'type': 'Key<Model>'},\n",
       "  'default': None},\n",
       " 'monotone_constraints': {'actual': None, 'default': None},\n",
       " 'nfolds': {'actual': 5, 'default': 0},\n",
       " 'normalize_type': {'actual': 'tree', 'default': 'tree'},\n",
       " 'nthread': {'actual': -1, 'default': -1},\n",
       " 'ntrees': {'actual': 100, 'default': 50},\n",
       " 'offset_column': {'actual': None, 'default': None},\n",
       " 'one_drop': {'actual': False, 'default': False},\n",
       " 'quiet_mode': {'actual': True, 'default': True},\n",
       " 'rate_drop': {'actual': 0.0, 'default': 0.0},\n",
       " 'reg_alpha': {'actual': 0.0, 'default': 0.0},\n",
       " 'reg_lambda': {'actual': 1.0, 'default': 1.0},\n",
       " 'response_column': {'actual': {'__meta': {'schema_name': 'ColSpecifierV3',\n",
       "    'schema_type': 'VecSpecifier',\n",
       "    'schema_version': 3},\n",
       "   'column_name': 'over_50k',\n",
       "   'is_member_of_frames': None},\n",
       "  'default': None},\n",
       " 'sample_rate': {'actual': 0.7, 'default': 1.0},\n",
       " 'sample_type': {'actual': 'uniform', 'default': 'uniform'},\n",
       " 'score_each_iteration': {'actual': False, 'default': False},\n",
       " 'score_tree_interval': {'actual': 0, 'default': 0},\n",
       " 'seed': {'actual': 42, 'default': -1},\n",
       " 'skip_drop': {'actual': 0.0, 'default': 0.0},\n",
       " 'stopping_metric': {'actual': 'AUTO', 'default': 'AUTO'},\n",
       " 'stopping_rounds': {'actual': 0, 'default': 0},\n",
       " 'stopping_tolerance': {'actual': 0.001, 'default': 0.001},\n",
       " 'subsample': {'actual': 1.0, 'default': 1.0},\n",
       " 'training_frame': {'actual': {'URL': '/3/Frames/Census_income.hex',\n",
       "   '__meta': {'schema_name': 'FrameKeyV3',\n",
       "    'schema_type': 'Key<Frame>',\n",
       "    'schema_version': 3},\n",
       "   'name': 'Census_income.hex',\n",
       "   'type': 'Key<Frame>'},\n",
       "  'default': None},\n",
       " 'tree_method': {'actual': 'auto', 'default': 'auto'},\n",
       " 'tweedie_power': {'actual': 1.5, 'default': 1.5},\n",
       " 'validation_frame': {'actual': None, 'default': None},\n",
       " 'weights_column': {'actual': None, 'default': None}}"
      ]
     },
     "execution_count": 14,
     "metadata": {},
     "output_type": "execute_result"
    }
   ],
   "source": [
    "xg3 = xgrid1.models[3]\n",
    "# 'actual' parameters below:\n",
    "xg3.params"
   ]
  },
  {
   "cell_type": "markdown",
   "metadata": {},
   "source": [
    "# Stacked Ensembles"
   ]
  },
  {
   "cell_type": "code",
   "execution_count": 15,
   "metadata": {},
   "outputs": [],
   "source": [
    "from h2o.estimators.stackedensemble import H2OStackedEnsembleEstimator"
   ]
  },
  {
   "cell_type": "code",
   "execution_count": 16,
   "metadata": {},
   "outputs": [
    {
     "name": "stdout",
     "output_type": "stream",
     "text": [
      "glm Model Build progress: |███████████████████████████████████████████████| 100%\n"
     ]
    }
   ],
   "source": [
    "my_glm = H2OGeneralizedLinearEstimator(family=\"binomial\", seed=42, nfolds=nfolds, fold_assignment='modulo',\n",
    "                                       keep_cross_validation_predictions=True)\n",
    "my_glm.train(x=x, y=y, training_frame=train)"
   ]
  },
  {
   "cell_type": "code",
   "execution_count": 17,
   "metadata": {},
   "outputs": [
    {
     "name": "stdout",
     "output_type": "stream",
     "text": [
      "gbm Model Build progress: |███████████████████████████████████████████████| 100%\n"
     ]
    }
   ],
   "source": [
    "my_gbm = H2OGradientBoostingEstimator(distribution='bernoulli', ntrees=10, max_depth=3, min_rows=2, learn_rate=0.2,\n",
    "                                     nfolds=nfolds, fold_assignment='modulo', keep_cross_validation_predictions=True, seed=42)\n",
    "my_gbm.train(x=x, y=y, training_frame=train)"
   ]
  },
  {
   "cell_type": "code",
   "execution_count": 18,
   "metadata": {},
   "outputs": [
    {
     "name": "stdout",
     "output_type": "stream",
     "text": [
      "drf Model Build progress: |███████████████████████████████████████████████| 100%\n"
     ]
    }
   ],
   "source": [
    "my_rf = H2ORandomForestEstimator(ntrees=10, nfolds=nfolds, fold_assignment='modulo',\n",
    "                                 keep_cross_validation_predictions=True, seed=42)\n",
    "my_rf.train(x=x, y=y, training_frame=train)"
   ]
  },
  {
   "cell_type": "code",
   "execution_count": 19,
   "metadata": {},
   "outputs": [
    {
     "name": "stdout",
     "output_type": "stream",
     "text": [
      "stackedensemble Model Build progress: |███████████████████████████████████| 100%\n"
     ]
    }
   ],
   "source": [
    "# Train a stacked ensemble using the GLM, GBM and RF above\n",
    "ensemble = H2OStackedEnsembleEstimator(model_id='my_ensemble_binomial', base_models=[my_glm, my_gbm, my_rf])\n",
    "ensemble.train(x=x, y=y, training_frame=train)"
   ]
  },
  {
   "cell_type": "code",
   "execution_count": 20,
   "metadata": {},
   "outputs": [
    {
     "name": "stdout",
     "output_type": "stream",
     "text": [
      "Test AUC scores GLM: 0.911, GBM: 0.910, RF: 0.914, Ensemble: 0.920\n"
     ]
    }
   ],
   "source": [
    "for m in ('glm', 'gbm', 'rf'):\n",
    "    exec('perf_' + m + '_test = my_' + m + '.model_performance(test)')\n",
    "\n",
    "perf_stack_test = ensemble.model_performance(test)\n",
    "\n",
    "print(\"Test AUC scores GLM: {:.3f}, GBM: {:.3f}, RF: {:.3f}, Ensemble: {:.3f}\".format(perf_glm_test.auc(),\n",
    "                                                                                      perf_gbm_test.auc(),\n",
    "                                                                                      perf_rf_test.auc(),\n",
    "                                                                                      perf_stack_test.auc()))"
   ]
  },
  {
   "cell_type": "code",
   "execution_count": 21,
   "metadata": {},
   "outputs": [
    {
     "name": "stdout",
     "output_type": "stream",
     "text": [
      "xgboost Grid Build progress: |████████████████████████████████████████████| 100%\n"
     ]
    }
   ],
   "source": [
    "# Alternatively, stacking models from a grid search:\n",
    "xgbm = H2OXGBoostEstimator(seed=42, nfolds=nfolds, fold_assignment='Modulo', keep_cross_validation_predictions=True)\n",
    "\n",
    "# limit the grid from above to 3 models only:\n",
    "search_criteria['max_models'] = 3\n",
    "hyper_params['ntrees'] = 10\n",
    "\n",
    "my_grid = H2OGridSearch(model=xgbm, hyper_params=hyper_params, search_criteria=search_criteria, grid_id='gxgbm')\n",
    "my_grid.train(x=x, y=y, training_frame=train)"
   ]
  },
  {
   "cell_type": "code",
   "execution_count": 22,
   "metadata": {},
   "outputs": [
    {
     "name": "stdout",
     "output_type": "stream",
     "text": [
      "Test accuracy at the base models 0.916 0.905 0.915 :\n",
      "Test accuracy of the ensemble: 0.920\n"
     ]
    }
   ],
   "source": [
    "perf_stack_ens = ensemble.model_performance(test)\n",
    "print('Test accuracy at the base models {:.3f} {:.3f} {:.3f} :'.format(\n",
    "        *[h2o.get_model(m).model_performance(test).auc() for m in my_grid.model_ids]))\n",
    "print(\"Test accuracy of the ensemble: {:.3f}\".format(perf_stack_ens.auc()))"
   ]
  },
  {
   "cell_type": "code",
   "execution_count": 24,
   "metadata": {},
   "outputs": [],
   "source": [
    "# Ensemble Stacking with scikit-learn\n",
    "from numpy import ravel\n",
    "from sklearn.preprocessing import LabelEncoder, LabelBinarizer\n",
    "from sklearn.metrics import accuracy_score\n",
    "from sklearn.neighbors import KNeighborsClassifier\n",
    "from sklearn.ensemble import RandomForestClassifier\n",
    "from xgboost import XGBClassifier\n",
    "from vecstack import stacking"
   ]
  },
  {
   "cell_type": "code",
   "execution_count": 25,
   "metadata": {},
   "outputs": [
    {
     "data": {
      "text/plain": [
       "((26122, 12), (26122, 1), (6439, 12), (6439, 1))"
      ]
     },
     "execution_count": 25,
     "metadata": {},
     "output_type": "execute_result"
    }
   ],
   "source": [
    "X_train = train.as_data_frame()\n",
    "X_train, y_train = X_train[x], X_train[y]\n",
    "X_test = test.as_data_frame()\n",
    "X_test, y_test = X_test[x], X_test[y]\n",
    "\n",
    "lb = LabelBinarizer()\n",
    "\n",
    "y_train = lb.fit_transform(y_train)\n",
    "y_test = lb.fit_transform(y_test)\n",
    "X_train['Sex'] = lb.fit_transform(X_train['Sex'])\n",
    "X_test['Sex'] = lb.fit_transform(X_test['Sex'])\n",
    "\n",
    "le = LabelEncoder()\n",
    "\n",
    "for c in ('Workclass', 'Marital Status', 'Occupation', 'Relationship', 'Race', 'Country'):\n",
    "    X_train[c]  = le.fit_transform(X_train[c])\n",
    "    X_test[c]  = le.fit_transform(X_test[c])\n",
    "\n",
    "X_train.shape, y_train.shape, X_test.shape, y_test.shape"
   ]
  },
  {
   "cell_type": "code",
   "execution_count": 26,
   "metadata": {},
   "outputs": [
    {
     "name": "stdout",
     "output_type": "stream",
     "text": [
      "task:         [classification]\n",
      "n_classes:    [2]\n",
      "metric:       [accuracy_score]\n",
      "mode:         [oof_pred_bag]\n",
      "n_models:     [3]\n",
      "\n",
      "model  0:     [KNeighborsClassifier]\n",
      "    fold  0:  [0.84366628]\n",
      "    fold  1:  [0.83441807]\n",
      "    fold  2:  [0.84877489]\n",
      "    fold  3:  [0.84456355]\n",
      "    fold  4:  [0.83460949]\n",
      "    ----\n",
      "    MEAN:     [0.84120646] + [0.00573069]\n",
      "    FULL:     [0.84120665]\n",
      "\n",
      "model  1:     [RandomForestClassifier]\n",
      "    fold  0:  [0.84194413]\n",
      "    fold  1:  [0.84226646]\n",
      "    fold  2:  [0.84858346]\n",
      "    fold  3:  [0.84628637]\n",
      "    fold  4:  [0.83939510]\n",
      "    ----\n",
      "    MEAN:     [0.84369510] + [0.00329265]\n",
      "    FULL:     [0.84369497]\n",
      "\n",
      "model  2:     [XGBClassifier]\n",
      "    fold  0:  [0.83888251]\n",
      "    fold  1:  [0.83518377]\n",
      "    fold  2:  [0.84628637]\n",
      "    fold  3:  [0.84475498]\n",
      "    fold  4:  [0.84111792]\n",
      "    ----\n",
      "    MEAN:     [0.84124511] + [0.00400178]\n",
      "    FULL:     [0.84124493]\n",
      "\n"
     ]
    }
   ],
   "source": [
    "models = [KNeighborsClassifier(n_neighbors=5, n_jobs=-1),\n",
    "          RandomForestClassifier(random_state=42, n_jobs=-1, n_estimators=10),\n",
    "          XGBClassifier(random_state=42, n_jobs=-1, n_estimators=10)]\n",
    "\n",
    "S_train, S_test = stacking(models, X_train, y_train.ravel(), X_test, regression=False, mode='oof_pred_bag',\n",
    "                           needs_proba=False, save_dir=None,metric=accuracy_score, n_folds=nfolds, \n",
    "                           stratified=True, shuffle=True, random_state=42, verbose=2)"
   ]
  },
  {
   "cell_type": "code",
   "execution_count": 27,
   "metadata": {},
   "outputs": [
    {
     "name": "stdout",
     "output_type": "stream",
     "text": [
      "Final prediction score: 0.854\n"
     ]
    }
   ],
   "source": [
    "model = XGBClassifier(random_state=42, n_jobs=-1, learning_rate=0.1, n_estimators=100, max_depth=3)\n",
    "\n",
    "model = model.fit(S_train, y_train.ravel())\n",
    "\n",
    "y_pred = model.predict(S_test)\n",
    "\n",
    "print('Final prediction score: {:.3f}'.format(accuracy_score(y_test, y_pred)))"
   ]
  },
  {
   "cell_type": "markdown",
   "metadata": {},
   "source": [
    "# AutoML with H2O"
   ]
  },
  {
   "cell_type": "code",
   "execution_count": 28,
   "metadata": {},
   "outputs": [
    {
     "name": "stdout",
     "output_type": "stream",
     "text": [
      "AutoML progress: |████████████████████████████████████████████████████████| 100%\n"
     ]
    }
   ],
   "source": [
    "from h2o.automl import H2OAutoML\n",
    "\n",
    "aml = H2OAutoML(max_runtime_secs=60, seed=42)\n",
    "# aml.train(x=x, y=y, training_frame=train,leaderboard_frame=test)\n",
    "aml.train(x=x, y=y, training_frame=my_data)"
   ]
  },
  {
   "cell_type": "code",
   "execution_count": 29,
   "metadata": {},
   "outputs": [
    {
     "data": {
      "text/html": [
       "<table>\n",
       "<thead>\n",
       "<tr><th>model_id                                           </th><th style=\"text-align: right;\">     auc</th><th style=\"text-align: right;\">  logloss</th><th style=\"text-align: right;\">  mean_per_class_error</th><th style=\"text-align: right;\">    rmse</th><th style=\"text-align: right;\">      mse</th></tr>\n",
       "</thead>\n",
       "<tbody>\n",
       "<tr><td>StackedEnsemble_AllModels_AutoML_20190117_171330   </td><td style=\"text-align: right;\">0.917802</td><td style=\"text-align: right;\"> 0.309283</td><td style=\"text-align: right;\">              0.182599</td><td style=\"text-align: right;\">0.309441</td><td style=\"text-align: right;\">0.0957535</td></tr>\n",
       "<tr><td>StackedEnsemble_BestOfFamily_AutoML_20190117_171330</td><td style=\"text-align: right;\">0.917802</td><td style=\"text-align: right;\"> 0.309283</td><td style=\"text-align: right;\">              0.182599</td><td style=\"text-align: right;\">0.309441</td><td style=\"text-align: right;\">0.0957535</td></tr>\n",
       "<tr><td>DRF_1_AutoML_20190117_171330                       </td><td style=\"text-align: right;\">0.914563</td><td style=\"text-align: right;\"> 0.328121</td><td style=\"text-align: right;\">              0.179069</td><td style=\"text-align: right;\">0.309397</td><td style=\"text-align: right;\">0.0957264</td></tr>\n",
       "<tr><td>XRT_1_AutoML_20190117_171330                       </td><td style=\"text-align: right;\">0.911844</td><td style=\"text-align: right;\"> 0.3206  </td><td style=\"text-align: right;\">              0.183837</td><td style=\"text-align: right;\">0.310705</td><td style=\"text-align: right;\">0.0965376</td></tr>\n",
       "<tr><td>GLM_grid_1_AutoML_20190117_171330_model_1          </td><td style=\"text-align: right;\">0.906741</td><td style=\"text-align: right;\"> 0.319126</td><td style=\"text-align: right;\">              0.188129</td><td style=\"text-align: right;\">0.319568</td><td style=\"text-align: right;\">0.102123 </td></tr>\n",
       "</tbody>\n",
       "</table>"
      ]
     },
     "metadata": {},
     "output_type": "display_data"
    },
    {
     "data": {
      "text/plain": []
     },
     "execution_count": 29,
     "metadata": {},
     "output_type": "execute_result"
    }
   ],
   "source": [
    "# aml.leader\n",
    "aml.leaderboard"
   ]
  },
  {
   "cell_type": "code",
   "execution_count": 30,
   "metadata": {},
   "outputs": [],
   "source": [
    "# convert to pandas DataFrame:\n",
    "models = list(aml.leaderboard.as_data_frame()['model_id'])\n",
    "stack_ens = h2o.get_model(*[m for m in models if  \"AllModels\" in m])   # using * or [0] to remove the [] brackets\n",
    "metalearner = h2o.get_model(stack_ens.metalearner()['name'])"
   ]
  },
  {
   "cell_type": "code",
   "execution_count": 31,
   "metadata": {},
   "outputs": [
    {
     "name": "stderr",
     "output_type": "stream",
     "text": [
      "/usr/local/lib/python3.5/dist-packages/matplotlib/cbook/__init__.py:424: MatplotlibDeprecationWarning: \n",
      "Passing one of 'on', 'true', 'off', 'false' as a boolean is deprecated; use an actual boolean (True/False) instead.\n",
      "  warn_deprecated(\"2.2\", \"Passing one of 'on', 'true', 'off', 'false' as a \"\n"
     ]
    },
    {
     "data": {
      "image/png": "[encoded data removed]",
      "text/plain": [
       "<Figure size 1008x720 with 1 Axes>"
      ]
     },
     "metadata": {
      "needs_background": "light"
     },
     "output_type": "display_data"
    }
   ],
   "source": [
    "%matplotlib inline\n",
    "# contributions from base learner models:\n",
    "metalearner.std_coef_plot()"
   ]
  },
  {
   "cell_type": "code",
   "execution_count": 32,
   "metadata": {},
   "outputs": [],
   "source": [
    "# aml.leader.download_mojo(path = \"./\")    # to save as MOJO-format production model\n",
    "# h2o.save_model(aml.leader, path = './')"
   ]
  },
  {
   "cell_type": "code",
   "execution_count": 33,
   "metadata": {},
   "outputs": [
    {
     "name": "stdout",
     "output_type": "stream",
     "text": [
      "H2O session _sid_be14 closed.\n"
     ]
    }
   ],
   "source": [
    "h2o.cluster().shutdown()"
   ]
  }
 ],
 "metadata": {
  "kernelspec": {
   "display_name": "Python 3",
   "language": "python",
   "name": "python3"
  },
  "language_info": {
   "codemirror_mode": {
    "name": "ipython",
    "version": 3
   },
   "file_extension": ".py",
   "mimetype": "text/x-python",
   "name": "python",
   "nbconvert_exporter": "python",
   "pygments_lexer": "ipython3",
   "version": "3.5.2"
  },
  "varInspector": {
   "cols": {
    "lenName": 16,
    "lenType": 16,
    "lenVar": 40
   },
   "kernels_config": {
    "python": {
     "delete_cmd_postfix": "",
     "delete_cmd_prefix": "del ",
     "library": "var_list.py",
     "varRefreshCmd": "print(var_dic_list())"
    },
    "r": {
     "delete_cmd_postfix": ") ",
     "delete_cmd_prefix": "rm(",
     "library": "var_list.r",
     "varRefreshCmd": "cat(var_dic_list()) "
    }
   },
   "types_to_exclude": [
    "module",
    "function",
    "builtin_function_or_method",
    "instance",
    "_Feature"
   ],
   "window_display": false
  }
 },
 "nbformat": 4,
 "nbformat_minor": 2
}
